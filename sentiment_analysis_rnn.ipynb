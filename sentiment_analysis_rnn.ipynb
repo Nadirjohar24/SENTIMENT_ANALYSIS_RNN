{
  "nbformat": 4,
  "nbformat_minor": 0,
  "metadata": {
    "colab": {
      "provenance": []
    },
    "kernelspec": {
      "name": "python3",
      "display_name": "Python 3"
    },
    "language_info": {
      "name": "python"
    }
  },
  "cells": [
    {
      "cell_type": "markdown",
      "source": [
        "**RNN on Custom dataset**"
      ],
      "metadata": {
        "id": "J8Nfvm5O__2Y"
      }
    },
    {
      "cell_type": "code",
      "execution_count": null,
      "metadata": {
        "colab": {
          "base_uri": "https://localhost:8080/",
          "height": 175
        },
        "id": "9KIng_L0_3PE",
        "outputId": "ec1e58c3-22bb-4f30-bf7d-fd57eaa8dc5f"
      },
      "outputs": [
        {
          "output_type": "execute_result",
          "data": {
            "text/plain": [
              "   Unnamed: 0                                           sentence  label source\n",
              "0           0                           Wow... Loved this place.      1   yelp\n",
              "1           1                                 Crust is not good.      0   yelp\n",
              "2           2          Not tasty and the texture was just nasty.      0   yelp\n",
              "3           3  Stopped by during the late May bank holiday of...      1   yelp"
            ],
            "text/html": [
              "\n",
              "  <div id=\"df-8e077025-5f80-4403-be52-433899e144d0\">\n",
              "    <div class=\"colab-df-container\">\n",
              "      <div>\n",
              "<style scoped>\n",
              "    .dataframe tbody tr th:only-of-type {\n",
              "        vertical-align: middle;\n",
              "    }\n",
              "\n",
              "    .dataframe tbody tr th {\n",
              "        vertical-align: top;\n",
              "    }\n",
              "\n",
              "    .dataframe thead th {\n",
              "        text-align: right;\n",
              "    }\n",
              "</style>\n",
              "<table border=\"1\" class=\"dataframe\">\n",
              "  <thead>\n",
              "    <tr style=\"text-align: right;\">\n",
              "      <th></th>\n",
              "      <th>Unnamed: 0</th>\n",
              "      <th>sentence</th>\n",
              "      <th>label</th>\n",
              "      <th>source</th>\n",
              "    </tr>\n",
              "  </thead>\n",
              "  <tbody>\n",
              "    <tr>\n",
              "      <th>0</th>\n",
              "      <td>0</td>\n",
              "      <td>Wow... Loved this place.</td>\n",
              "      <td>1</td>\n",
              "      <td>yelp</td>\n",
              "    </tr>\n",
              "    <tr>\n",
              "      <th>1</th>\n",
              "      <td>1</td>\n",
              "      <td>Crust is not good.</td>\n",
              "      <td>0</td>\n",
              "      <td>yelp</td>\n",
              "    </tr>\n",
              "    <tr>\n",
              "      <th>2</th>\n",
              "      <td>2</td>\n",
              "      <td>Not tasty and the texture was just nasty.</td>\n",
              "      <td>0</td>\n",
              "      <td>yelp</td>\n",
              "    </tr>\n",
              "    <tr>\n",
              "      <th>3</th>\n",
              "      <td>3</td>\n",
              "      <td>Stopped by during the late May bank holiday of...</td>\n",
              "      <td>1</td>\n",
              "      <td>yelp</td>\n",
              "    </tr>\n",
              "  </tbody>\n",
              "</table>\n",
              "</div>\n",
              "      <button class=\"colab-df-convert\" onclick=\"convertToInteractive('df-8e077025-5f80-4403-be52-433899e144d0')\"\n",
              "              title=\"Convert this dataframe to an interactive table.\"\n",
              "              style=\"display:none;\">\n",
              "        \n",
              "  <svg xmlns=\"http://www.w3.org/2000/svg\" height=\"24px\"viewBox=\"0 0 24 24\"\n",
              "       width=\"24px\">\n",
              "    <path d=\"M0 0h24v24H0V0z\" fill=\"none\"/>\n",
              "    <path d=\"M18.56 5.44l.94 2.06.94-2.06 2.06-.94-2.06-.94-.94-2.06-.94 2.06-2.06.94zm-11 1L8.5 8.5l.94-2.06 2.06-.94-2.06-.94L8.5 2.5l-.94 2.06-2.06.94zm10 10l.94 2.06.94-2.06 2.06-.94-2.06-.94-.94-2.06-.94 2.06-2.06.94z\"/><path d=\"M17.41 7.96l-1.37-1.37c-.4-.4-.92-.59-1.43-.59-.52 0-1.04.2-1.43.59L10.3 9.45l-7.72 7.72c-.78.78-.78 2.05 0 2.83L4 21.41c.39.39.9.59 1.41.59.51 0 1.02-.2 1.41-.59l7.78-7.78 2.81-2.81c.8-.78.8-2.07 0-2.86zM5.41 20L4 18.59l7.72-7.72 1.47 1.35L5.41 20z\"/>\n",
              "  </svg>\n",
              "      </button>\n",
              "      \n",
              "  <style>\n",
              "    .colab-df-container {\n",
              "      display:flex;\n",
              "      flex-wrap:wrap;\n",
              "      gap: 12px;\n",
              "    }\n",
              "\n",
              "    .colab-df-convert {\n",
              "      background-color: #E8F0FE;\n",
              "      border: none;\n",
              "      border-radius: 50%;\n",
              "      cursor: pointer;\n",
              "      display: none;\n",
              "      fill: #1967D2;\n",
              "      height: 32px;\n",
              "      padding: 0 0 0 0;\n",
              "      width: 32px;\n",
              "    }\n",
              "\n",
              "    .colab-df-convert:hover {\n",
              "      background-color: #E2EBFA;\n",
              "      box-shadow: 0px 1px 2px rgba(60, 64, 67, 0.3), 0px 1px 3px 1px rgba(60, 64, 67, 0.15);\n",
              "      fill: #174EA6;\n",
              "    }\n",
              "\n",
              "    [theme=dark] .colab-df-convert {\n",
              "      background-color: #3B4455;\n",
              "      fill: #D2E3FC;\n",
              "    }\n",
              "\n",
              "    [theme=dark] .colab-df-convert:hover {\n",
              "      background-color: #434B5C;\n",
              "      box-shadow: 0px 1px 3px 1px rgba(0, 0, 0, 0.15);\n",
              "      filter: drop-shadow(0px 1px 2px rgba(0, 0, 0, 0.3));\n",
              "      fill: #FFFFFF;\n",
              "    }\n",
              "  </style>\n",
              "\n",
              "      <script>\n",
              "        const buttonEl =\n",
              "          document.querySelector('#df-8e077025-5f80-4403-be52-433899e144d0 button.colab-df-convert');\n",
              "        buttonEl.style.display =\n",
              "          google.colab.kernel.accessAllowed ? 'block' : 'none';\n",
              "\n",
              "        async function convertToInteractive(key) {\n",
              "          const element = document.querySelector('#df-8e077025-5f80-4403-be52-433899e144d0');\n",
              "          const dataTable =\n",
              "            await google.colab.kernel.invokeFunction('convertToInteractive',\n",
              "                                                     [key], {});\n",
              "          if (!dataTable) return;\n",
              "\n",
              "          const docLinkHtml = 'Like what you see? Visit the ' +\n",
              "            '<a target=\"_blank\" href=https://colab.research.google.com/notebooks/data_table.ipynb>data table notebook</a>'\n",
              "            + ' to learn more about interactive tables.';\n",
              "          element.innerHTML = '';\n",
              "          dataTable['output_type'] = 'display_data';\n",
              "          await google.colab.output.renderOutput(dataTable, element);\n",
              "          const docLink = document.createElement('div');\n",
              "          docLink.innerHTML = docLinkHtml;\n",
              "          element.appendChild(docLink);\n",
              "        }\n",
              "      </script>\n",
              "    </div>\n",
              "  </div>\n",
              "  "
            ]
          },
          "metadata": {},
          "execution_count": 75
        }
      ],
      "source": [
        "import pandas as pd\n",
        "df=pd.read_csv('yelp.csv')\n",
        "df.head(4)"
      ]
    },
    {
      "cell_type": "markdown",
      "source": [
        "splitting in test train"
      ],
      "metadata": {
        "id": "mwIV0ZmlAfXU"
      }
    },
    {
      "cell_type": "code",
      "source": [
        "x=df['sentence']\n",
        "y=df['label']\n",
        "from sklearn.model_selection import train_test_split\n",
        "X_train, X_test, y_train, y_test = train_test_split(x, y, test_size=0.20)\n",
        "print(\"shape of X_train: \",X_train.shape)\n",
        "print(\"shape of X_test: \",X_test.shape)\n",
        "\n",
        "print(\"shape of y_train: \",y_train.shape)\n",
        "print(\"shape of y_test: \",y_test.shape)"
      ],
      "metadata": {
        "colab": {
          "base_uri": "https://localhost:8080/"
        },
        "id": "YSTRxDU9ASVA",
        "outputId": "6ef0e6b6-01e4-4084-c571-69a865758257"
      },
      "execution_count": null,
      "outputs": [
        {
          "output_type": "stream",
          "name": "stdout",
          "text": [
            "shape of X_train:  (800,)\n",
            "shape of X_test:  (200,)\n",
            "shape of y_train:  (800,)\n",
            "shape of y_test:  (200,)\n"
          ]
        }
      ]
    },
    {
      "cell_type": "code",
      "source": [
        "print(X_train[6]) \n",
        "print(y_train[6])\n"
      ],
      "metadata": {
        "colab": {
          "base_uri": "https://localhost:8080/"
        },
        "id": "WFjYuXNkBjvT",
        "outputId": "78cda786-55dd-4d9e-bb85-4e4de2a4734c"
      },
      "execution_count": null,
      "outputs": [
        {
          "output_type": "stream",
          "name": "stdout",
          "text": [
            "Honeslty it didn't taste THAT fresh.)\n",
            "0\n"
          ]
        }
      ]
    },
    {
      "cell_type": "markdown",
      "source": [
        "Custom word embedding (conversion word to vector using keras : texts_to_sequences)"
      ],
      "metadata": {
        "id": "vSuqsrxPAwNY"
      }
    },
    {
      "cell_type": "code",
      "source": [
        "from keras.preprocessing.text import Tokenizer\n",
        "\n",
        "tokenizer = Tokenizer(num_words=1000,lower=True)\n",
        "tokenizer.fit_on_texts(X_train)\n",
        "\n",
        "\n",
        "\n",
        "X_train = tokenizer.texts_to_sequences(X_train)\n",
        "X_test = tokenizer.texts_to_sequences(X_test)\n"
      ],
      "metadata": {
        "id": "dJFOKFPqAxEz"
      },
      "execution_count": null,
      "outputs": []
    },
    {
      "cell_type": "markdown",
      "source": [
        "independent and dependent variable after word to vector"
      ],
      "metadata": {
        "id": "yxPf_RRqBaln"
      }
    },
    {
      "cell_type": "code",
      "source": [
        "print(X_train[6])\n",
        "print(y_train[6])"
      ],
      "metadata": {
        "colab": {
          "base_uri": "https://localhost:8080/"
        },
        "id": "NAkoIMgNBboS",
        "outputId": "749f414c-9675-4a18-a3f6-3b58f1c87556"
      },
      "execution_count": null,
      "outputs": [
        {
          "output_type": "stream",
          "name": "stdout",
          "text": [
            "[3, 75, 21, 25]\n",
            "0\n"
          ]
        }
      ]
    },
    {
      "cell_type": "markdown",
      "source": [
        "Padding "
      ],
      "metadata": {
        "id": "mT_U0Et-COIb"
      }
    },
    {
      "cell_type": "code",
      "source": [
        "\n",
        "from tensorflow.keras.preprocessing.sequence import pad_sequences\n",
        "\n",
        "maxlen = 100  #We set the maximum size of each list to 100.\n",
        "\n",
        "\n",
        "X_train = pad_sequences(X_train, padding='post', maxlen=maxlen)\n",
        "X_test = pad_sequences(X_test, padding='post', maxlen=maxlen)\n",
        "\n",
        "print(X_train[3, :]) "
      ],
      "metadata": {
        "colab": {
          "base_uri": "https://localhost:8080/"
        },
        "id": "WvLf_YNWCQNF",
        "outputId": "786fc1f9-b8fd-4243-da80-42f49a2e7a6d"
      },
      "execution_count": null,
      "outputs": [
        {
          "output_type": "stream",
          "name": "stdout",
          "text": [
            "[165   9  51 351  20  10 241   2 776 105   0   0   0   0   0   0   0   0\n",
            "   0   0   0   0   0   0   0   0   0   0   0   0   0   0   0   0   0   0\n",
            "   0   0   0   0   0   0   0   0   0   0   0   0   0   0   0   0   0   0\n",
            "   0   0   0   0   0   0   0   0   0   0   0   0   0   0   0   0   0   0\n",
            "   0   0   0   0   0   0   0   0   0   0   0   0   0   0   0   0   0   0\n",
            "   0   0   0   0   0   0   0   0   0   0]\n"
          ]
        }
      ]
    },
    {
      "cell_type": "markdown",
      "source": [
        "One-Hot encoding"
      ],
      "metadata": {
        "id": "lVg5ZpYvCgCK"
      }
    },
    {
      "cell_type": "code",
      "source": [
        "from keras.utils import to_categorical\n",
        "num_classes = 2\n",
        "\n",
        "y_train = to_categorical(y_train, num_classes)\n",
        "y_test = to_categorical(y_test, num_classes)\n",
        "\n",
        "print(y_train.shape)\n",
        "print(y_train[0])"
      ],
      "metadata": {
        "colab": {
          "base_uri": "https://localhost:8080/"
        },
        "id": "Sv3rSIlmCji-",
        "outputId": "29327a3b-045a-4124-e864-c44b3507edab"
      },
      "execution_count": null,
      "outputs": [
        {
          "output_type": "stream",
          "name": "stdout",
          "text": [
            "(800, 2)\n",
            "[1. 0.]\n"
          ]
        }
      ]
    },
    {
      "cell_type": "markdown",
      "source": [
        "changing dimentionality of input to 3-d as needed for Rnn"
      ],
      "metadata": {
        "id": "q6i7SVj2CwMb"
      }
    },
    {
      "cell_type": "code",
      "source": [
        "from keras.models import Sequential\n",
        "from keras.layers import Dense, Dropout, Activation,SimpleRNN\n",
        "from keras import optimizers\n",
        "from tensorflow.keras.preprocessing.sequence import pad_sequences\n",
        "import numpy as np\n",
        "\n",
        "\n",
        "#(samples, timesteps, features)\n",
        "#(batch_size, timesteps, input_dim)\n",
        "X_train = np.array(X_train).reshape((X_train.shape[0], X_train.shape[1], 1))\n",
        "print(X_train.shape)  #(750, 100, 1)\n",
        "\n",
        "X_test = np.array(X_test).reshape((X_test.shape[0], X_test.shape[1], 1))\n",
        "print(X_test.shape)"
      ],
      "metadata": {
        "colab": {
          "base_uri": "https://localhost:8080/"
        },
        "id": "8tLN7djqC8yJ",
        "outputId": "0c1080be-ec93-41de-c93e-75157a8365b2"
      },
      "execution_count": null,
      "outputs": [
        {
          "output_type": "stream",
          "name": "stdout",
          "text": [
            "(800, 100, 1)\n",
            "(200, 100, 1)\n"
          ]
        }
      ]
    },
    {
      "cell_type": "markdown",
      "source": [
        "model function "
      ],
      "metadata": {
        "id": "Vu9lN-A7DIeL"
      }
    },
    {
      "cell_type": "code",
      "source": [
        "num_classes=2\n",
        "\n",
        "def vanilla_rnn():\n",
        "    model = Sequential()\n",
        "    #model.add(SimpleRNN(50, input_shape = (X_train.shape[1], X_train.shape[2],), return_sequences = False))\n",
        "    model.add(SimpleRNN(50, input_shape = (maxlen,1), return_sequences = False))\n",
        "    model.add(Dense(num_classes))\n",
        "    model.add(Activation('softmax'))\n",
        "    model.summary()\n",
        "    \n",
        "    adam = optimizers.Adam(lr = 0.001)\n",
        "    model.compile(loss = 'categorical_crossentropy', optimizer = adam, metrics = ['accuracy'])\n",
        "    \n",
        "    return model"
      ],
      "metadata": {
        "id": "yZ1LHcRIDHKn"
      },
      "execution_count": null,
      "outputs": []
    },
    {
      "cell_type": "markdown",
      "source": [
        "model training"
      ],
      "metadata": {
        "id": "Cn5IHfj1DZqJ"
      }
    },
    {
      "cell_type": "code",
      "source": [
        "from keras.wrappers.scikit_learn import KerasClassifier\n",
        "#hyperparameters\n",
        "model = KerasClassifier(build_fn = vanilla_rnn, epochs = 100, batch_size = 50)\n",
        "model.fit(X_train, y_train)"
      ],
      "metadata": {
        "colab": {
          "base_uri": "https://localhost:8080/"
        },
        "id": "kwBmAQvtDbnK",
        "outputId": "ab6e2d02-9940-4178-d9f6-4843fe647ea6"
      },
      "execution_count": null,
      "outputs": [
        {
          "output_type": "stream",
          "name": "stdout",
          "text": [
            "Model: \"sequential_2\"\n",
            "_________________________________________________________________\n",
            " Layer (type)                Output Shape              Param #   \n",
            "=================================================================\n",
            " simple_rnn_2 (SimpleRNN)    (None, 50)                2600      \n",
            "                                                                 \n",
            " dense_2 (Dense)             (None, 2)                 102       \n",
            "                                                                 \n",
            " activation_2 (Activation)   (None, 2)                 0         \n",
            "                                                                 \n",
            "=================================================================\n",
            "Total params: 2,702\n",
            "Trainable params: 2,702\n",
            "Non-trainable params: 0\n",
            "_________________________________________________________________\n"
          ]
        },
        {
          "output_type": "stream",
          "name": "stderr",
          "text": [
            "<ipython-input-102-896c73fb37fa>:3: DeprecationWarning: KerasClassifier is deprecated, use Sci-Keras (https://github.com/adriangb/scikeras) instead. See https://www.adriangb.com/scikeras/stable/migration.html for help migrating.\n",
            "  model = KerasClassifier(build_fn = vanilla_rnn, epochs = 100, batch_size = 50)\n",
            "/usr/local/lib/python3.9/dist-packages/keras/optimizers/legacy/adam.py:117: UserWarning: The `lr` argument is deprecated, use `learning_rate` instead.\n",
            "  super().__init__(name, **kwargs)\n"
          ]
        },
        {
          "output_type": "stream",
          "name": "stdout",
          "text": [
            "Epoch 1/100\n",
            "16/16 [==============================] - 1s 18ms/step - loss: 0.7010 - accuracy: 0.4863\n",
            "Epoch 2/100\n",
            "16/16 [==============================] - 0s 17ms/step - loss: 0.6924 - accuracy: 0.5300\n",
            "Epoch 3/100\n",
            "16/16 [==============================] - 0s 17ms/step - loss: 0.6920 - accuracy: 0.5325\n",
            "Epoch 4/100\n",
            "16/16 [==============================] - 0s 18ms/step - loss: 0.6944 - accuracy: 0.4888\n",
            "Epoch 5/100\n",
            "16/16 [==============================] - 0s 28ms/step - loss: 0.6909 - accuracy: 0.5225\n",
            "Epoch 6/100\n",
            "16/16 [==============================] - 1s 33ms/step - loss: 0.6885 - accuracy: 0.5612\n",
            "Epoch 7/100\n",
            "16/16 [==============================] - 1s 32ms/step - loss: 0.6977 - accuracy: 0.5238\n",
            "Epoch 8/100\n",
            "16/16 [==============================] - 1s 33ms/step - loss: 0.6919 - accuracy: 0.5213\n",
            "Epoch 9/100\n",
            "16/16 [==============================] - 1s 34ms/step - loss: 0.6967 - accuracy: 0.5100\n",
            "Epoch 10/100\n",
            "16/16 [==============================] - 0s 30ms/step - loss: 0.6913 - accuracy: 0.5412\n",
            "Epoch 11/100\n",
            "16/16 [==============================] - 0s 21ms/step - loss: 0.6899 - accuracy: 0.5412\n",
            "Epoch 12/100\n",
            "16/16 [==============================] - 0s 17ms/step - loss: 0.6893 - accuracy: 0.5525\n",
            "Epoch 13/100\n",
            "16/16 [==============================] - 0s 17ms/step - loss: 0.6890 - accuracy: 0.5425\n",
            "Epoch 14/100\n",
            "16/16 [==============================] - 0s 17ms/step - loss: 0.6894 - accuracy: 0.5238\n",
            "Epoch 15/100\n",
            "16/16 [==============================] - 0s 16ms/step - loss: 0.6888 - accuracy: 0.5512\n",
            "Epoch 16/100\n",
            "16/16 [==============================] - 0s 18ms/step - loss: 0.6971 - accuracy: 0.5063\n",
            "Epoch 17/100\n",
            "16/16 [==============================] - 0s 17ms/step - loss: 0.6939 - accuracy: 0.5125\n",
            "Epoch 18/100\n",
            "16/16 [==============================] - 0s 19ms/step - loss: 0.6916 - accuracy: 0.5400\n",
            "Epoch 19/100\n",
            "16/16 [==============================] - 0s 19ms/step - loss: 0.6908 - accuracy: 0.5275\n",
            "Epoch 20/100\n",
            "16/16 [==============================] - 0s 17ms/step - loss: 0.6953 - accuracy: 0.5175\n",
            "Epoch 21/100\n",
            "16/16 [==============================] - 0s 18ms/step - loss: 0.6867 - accuracy: 0.5487\n",
            "Epoch 22/100\n",
            "16/16 [==============================] - 0s 16ms/step - loss: 0.6993 - accuracy: 0.5113\n",
            "Epoch 23/100\n",
            "16/16 [==============================] - 0s 18ms/step - loss: 0.6883 - accuracy: 0.5550\n",
            "Epoch 24/100\n",
            "16/16 [==============================] - 0s 17ms/step - loss: 0.6874 - accuracy: 0.5512\n",
            "Epoch 25/100\n",
            "16/16 [==============================] - 0s 18ms/step - loss: 0.6925 - accuracy: 0.5113\n",
            "Epoch 26/100\n",
            "16/16 [==============================] - 0s 17ms/step - loss: 0.6950 - accuracy: 0.5175\n",
            "Epoch 27/100\n",
            "16/16 [==============================] - 0s 17ms/step - loss: 0.6929 - accuracy: 0.5362\n",
            "Epoch 28/100\n",
            "16/16 [==============================] - 0s 16ms/step - loss: 0.6882 - accuracy: 0.5562\n",
            "Epoch 29/100\n",
            "16/16 [==============================] - 0s 18ms/step - loss: 0.6866 - accuracy: 0.5487\n",
            "Epoch 30/100\n",
            "16/16 [==============================] - 0s 17ms/step - loss: 0.6985 - accuracy: 0.4913\n",
            "Epoch 31/100\n",
            "16/16 [==============================] - 0s 17ms/step - loss: 0.6955 - accuracy: 0.4825\n",
            "Epoch 32/100\n",
            "16/16 [==============================] - 0s 18ms/step - loss: 0.6958 - accuracy: 0.5213\n",
            "Epoch 33/100\n",
            "16/16 [==============================] - 0s 18ms/step - loss: 0.6935 - accuracy: 0.5362\n",
            "Epoch 34/100\n",
            "16/16 [==============================] - 0s 17ms/step - loss: 0.6926 - accuracy: 0.5362\n",
            "Epoch 35/100\n",
            "16/16 [==============================] - 0s 16ms/step - loss: 0.6952 - accuracy: 0.5088\n",
            "Epoch 36/100\n",
            "16/16 [==============================] - 0s 17ms/step - loss: 0.6918 - accuracy: 0.5125\n",
            "Epoch 37/100\n",
            "16/16 [==============================] - 0s 16ms/step - loss: 0.6921 - accuracy: 0.5000\n",
            "Epoch 38/100\n",
            "16/16 [==============================] - 0s 17ms/step - loss: 0.6965 - accuracy: 0.4938\n",
            "Epoch 39/100\n",
            "16/16 [==============================] - 0s 18ms/step - loss: 0.6917 - accuracy: 0.5225\n",
            "Epoch 40/100\n",
            "16/16 [==============================] - 0s 17ms/step - loss: 0.6900 - accuracy: 0.5375\n",
            "Epoch 41/100\n",
            "16/16 [==============================] - 0s 17ms/step - loss: 0.6868 - accuracy: 0.5412\n",
            "Epoch 42/100\n",
            "16/16 [==============================] - 0s 17ms/step - loss: 0.6914 - accuracy: 0.5350\n",
            "Epoch 43/100\n",
            "16/16 [==============================] - 0s 18ms/step - loss: 0.6965 - accuracy: 0.5200\n",
            "Epoch 44/100\n",
            "16/16 [==============================] - 0s 17ms/step - loss: 0.6956 - accuracy: 0.4938\n",
            "Epoch 45/100\n",
            "16/16 [==============================] - 0s 17ms/step - loss: 0.6987 - accuracy: 0.4988\n",
            "Epoch 46/100\n",
            "16/16 [==============================] - 0s 26ms/step - loss: 0.6957 - accuracy: 0.5138\n",
            "Epoch 47/100\n",
            "16/16 [==============================] - 1s 38ms/step - loss: 0.6889 - accuracy: 0.5300\n",
            "Epoch 48/100\n",
            "16/16 [==============================] - 1s 39ms/step - loss: 0.6915 - accuracy: 0.5300\n",
            "Epoch 49/100\n",
            "16/16 [==============================] - 1s 33ms/step - loss: 0.6941 - accuracy: 0.5038\n",
            "Epoch 50/100\n",
            "16/16 [==============================] - 1s 32ms/step - loss: 0.6924 - accuracy: 0.5213\n",
            "Epoch 51/100\n",
            "16/16 [==============================] - 1s 34ms/step - loss: 0.6948 - accuracy: 0.5125\n",
            "Epoch 52/100\n",
            "16/16 [==============================] - 1s 34ms/step - loss: 0.6956 - accuracy: 0.5013\n",
            "Epoch 53/100\n",
            "16/16 [==============================] - 1s 33ms/step - loss: 0.6901 - accuracy: 0.5288\n",
            "Epoch 54/100\n",
            "16/16 [==============================] - 1s 31ms/step - loss: 0.6922 - accuracy: 0.5275\n",
            "Epoch 55/100\n",
            "16/16 [==============================] - 0s 31ms/step - loss: 0.6933 - accuracy: 0.5075\n",
            "Epoch 56/100\n",
            "16/16 [==============================] - 1s 31ms/step - loss: 0.6929 - accuracy: 0.5200\n",
            "Epoch 57/100\n",
            "16/16 [==============================] - 0s 20ms/step - loss: 0.6878 - accuracy: 0.5625\n",
            "Epoch 58/100\n",
            "16/16 [==============================] - 0s 17ms/step - loss: 0.6969 - accuracy: 0.4863\n",
            "Epoch 59/100\n",
            "16/16 [==============================] - 0s 17ms/step - loss: 0.6918 - accuracy: 0.5225\n",
            "Epoch 60/100\n",
            "16/16 [==============================] - 0s 17ms/step - loss: 0.6927 - accuracy: 0.5400\n",
            "Epoch 61/100\n",
            "16/16 [==============================] - 0s 16ms/step - loss: 0.6976 - accuracy: 0.4787\n",
            "Epoch 62/100\n",
            "16/16 [==============================] - 0s 17ms/step - loss: 0.6951 - accuracy: 0.5138\n",
            "Epoch 63/100\n",
            "16/16 [==============================] - 0s 20ms/step - loss: 0.6961 - accuracy: 0.5000\n",
            "Epoch 64/100\n",
            "16/16 [==============================] - 0s 18ms/step - loss: 0.6922 - accuracy: 0.5150\n",
            "Epoch 65/100\n",
            "16/16 [==============================] - 0s 17ms/step - loss: 0.6946 - accuracy: 0.5362\n",
            "Epoch 66/100\n",
            "16/16 [==============================] - 0s 19ms/step - loss: 0.6924 - accuracy: 0.5312\n",
            "Epoch 67/100\n",
            "16/16 [==============================] - 0s 17ms/step - loss: 0.6909 - accuracy: 0.5312\n",
            "Epoch 68/100\n",
            "16/16 [==============================] - 0s 17ms/step - loss: 0.6963 - accuracy: 0.5200\n",
            "Epoch 69/100\n",
            "16/16 [==============================] - 0s 17ms/step - loss: 0.6930 - accuracy: 0.5138\n",
            "Epoch 70/100\n",
            "16/16 [==============================] - 0s 18ms/step - loss: 0.6926 - accuracy: 0.5412\n",
            "Epoch 71/100\n",
            "16/16 [==============================] - 0s 17ms/step - loss: 0.6902 - accuracy: 0.5337\n",
            "Epoch 72/100\n",
            "16/16 [==============================] - 0s 18ms/step - loss: 0.6935 - accuracy: 0.5288\n",
            "Epoch 73/100\n",
            "16/16 [==============================] - 0s 16ms/step - loss: 0.6955 - accuracy: 0.4963\n",
            "Epoch 74/100\n",
            "16/16 [==============================] - 0s 18ms/step - loss: 0.6933 - accuracy: 0.5188\n",
            "Epoch 75/100\n",
            "16/16 [==============================] - 0s 18ms/step - loss: 0.6936 - accuracy: 0.5163\n",
            "Epoch 76/100\n",
            "16/16 [==============================] - 0s 18ms/step - loss: 0.6936 - accuracy: 0.5113\n",
            "Epoch 77/100\n",
            "16/16 [==============================] - 0s 18ms/step - loss: 0.6953 - accuracy: 0.4975\n",
            "Epoch 78/100\n",
            "16/16 [==============================] - 0s 19ms/step - loss: 0.6935 - accuracy: 0.4963\n",
            "Epoch 79/100\n",
            "16/16 [==============================] - 0s 17ms/step - loss: 0.6912 - accuracy: 0.5312\n",
            "Epoch 80/100\n",
            "16/16 [==============================] - 0s 17ms/step - loss: 0.6945 - accuracy: 0.5200\n",
            "Epoch 81/100\n",
            "16/16 [==============================] - 0s 18ms/step - loss: 0.6954 - accuracy: 0.5088\n",
            "Epoch 82/100\n",
            "16/16 [==============================] - 0s 17ms/step - loss: 0.6925 - accuracy: 0.5225\n",
            "Epoch 83/100\n",
            "16/16 [==============================] - 0s 17ms/step - loss: 0.6961 - accuracy: 0.4737\n",
            "Epoch 84/100\n",
            "16/16 [==============================] - 0s 17ms/step - loss: 0.6976 - accuracy: 0.4825\n",
            "Epoch 85/100\n",
            "16/16 [==============================] - 0s 18ms/step - loss: 0.6955 - accuracy: 0.5138\n",
            "Epoch 86/100\n",
            "16/16 [==============================] - 0s 17ms/step - loss: 0.6957 - accuracy: 0.5013\n",
            "Epoch 87/100\n",
            "16/16 [==============================] - 0s 17ms/step - loss: 0.6973 - accuracy: 0.4712\n",
            "Epoch 88/100\n",
            "16/16 [==============================] - 0s 18ms/step - loss: 0.6939 - accuracy: 0.5038\n",
            "Epoch 89/100\n",
            "16/16 [==============================] - 0s 17ms/step - loss: 0.6937 - accuracy: 0.5125\n",
            "Epoch 90/100\n",
            "16/16 [==============================] - 0s 29ms/step - loss: 0.6929 - accuracy: 0.5362\n",
            "Epoch 91/100\n",
            "16/16 [==============================] - 1s 32ms/step - loss: 0.6938 - accuracy: 0.4950\n",
            "Epoch 92/100\n",
            "16/16 [==============================] - 1s 31ms/step - loss: 0.6928 - accuracy: 0.5263\n",
            "Epoch 93/100\n",
            "16/16 [==============================] - 1s 32ms/step - loss: 0.6938 - accuracy: 0.5175\n",
            "Epoch 94/100\n",
            "16/16 [==============================] - 1s 32ms/step - loss: 0.6940 - accuracy: 0.5000\n",
            "Epoch 95/100\n",
            "16/16 [==============================] - 0s 31ms/step - loss: 0.6945 - accuracy: 0.4888\n",
            "Epoch 96/100\n",
            "16/16 [==============================] - 0s 19ms/step - loss: 0.6941 - accuracy: 0.5013\n",
            "Epoch 97/100\n",
            "16/16 [==============================] - 0s 17ms/step - loss: 0.6922 - accuracy: 0.5163\n",
            "Epoch 98/100\n",
            "16/16 [==============================] - 0s 19ms/step - loss: 0.6924 - accuracy: 0.5325\n",
            "Epoch 99/100\n",
            "16/16 [==============================] - 0s 19ms/step - loss: 0.6929 - accuracy: 0.5325\n",
            "Epoch 100/100\n",
            "16/16 [==============================] - 0s 21ms/step - loss: 0.6930 - accuracy: 0.5325\n"
          ]
        },
        {
          "output_type": "execute_result",
          "data": {
            "text/plain": [
              "<keras.callbacks.History at 0x7ff9d50caeb0>"
            ]
          },
          "metadata": {},
          "execution_count": 102
        }
      ]
    },
    {
      "cell_type": "markdown",
      "source": [
        "metrics- accuracy"
      ],
      "metadata": {
        "id": "bdOYIa9HDgF0"
      }
    },
    {
      "cell_type": "code",
      "source": [
        "from sklearn.metrics import accuracy_score\n",
        "y_pred = model.predict(X_test)\n",
        "y_test_ = np.argmax(y_test, axis = 1)\n",
        "\n",
        "print(accuracy_score(y_pred, y_test_))"
      ],
      "metadata": {
        "colab": {
          "base_uri": "https://localhost:8080/"
        },
        "id": "owJU_sOFDm0N",
        "outputId": "eaf306fe-b3bf-4d6e-bc6b-7d78172bc0af"
      },
      "execution_count": null,
      "outputs": [
        {
          "output_type": "stream",
          "name": "stdout",
          "text": [
            "7/7 [==============================] - 0s 10ms/step\n",
            "0.525\n"
          ]
        }
      ]
    },
    {
      "cell_type": "markdown",
      "source": [
        "Testing model on New input"
      ],
      "metadata": {
        "id": "Zwd7upMODtMB"
      }
    },
    {
      "cell_type": "code",
      "source": [
        "\n",
        "a= ['Waitress was horrible, bad in service.']\n",
        "#a = [\" i love their service\"]\n",
        "#applying tokenizer and padding to new input\n",
        "a = tokenizer.texts_to_sequences(a)\n",
        "a=np.array(a)\n",
        "a = pad_sequences(a, padding='post', maxlen=maxlen)\n",
        "\n",
        "a = a.reshape((a.shape[0], a.shape[1], 1))\n",
        "print(a.shape)\n",
        "\n",
        "prediction = model.predict(np.array(a))\n",
        "print(prediction) # 0 means negative and 1 means positive"
      ],
      "metadata": {
        "colab": {
          "base_uri": "https://localhost:8080/"
        },
        "id": "edFZEB5-Dtf9",
        "outputId": "a9fa5c17-b2f7-4c61-e9ad-deb7cc69dcc6"
      },
      "execution_count": null,
      "outputs": [
        {
          "output_type": "stream",
          "name": "stdout",
          "text": [
            "(1, 100, 1)\n",
            "1/1 [==============================] - 0s 36ms/step\n",
            "[0]\n"
          ]
        }
      ]
    }
  ]
}